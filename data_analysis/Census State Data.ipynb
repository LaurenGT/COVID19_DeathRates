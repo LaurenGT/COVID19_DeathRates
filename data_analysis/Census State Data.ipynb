{
 "cells": [
  {
   "cell_type": "code",
   "execution_count": 2,
   "id": "iraqi-bahrain",
   "metadata": {},
   "outputs": [],
   "source": [
    "# Dependencies\n",
    "\n",
    "import numpy as np\n",
    "import pandas as pd\n",
    "import matplotlib.pyplot as plt\n",
    "import requests\n",
    "from census import Census\n",
    "\n",
    "# Census API Key\n",
    "\n",
    "from config import api_key\n",
    "c = Census(api_key, year=2019)"
   ]
  },
  {
   "cell_type": "code",
   "execution_count": null,
   "id": "norwegian-context",
   "metadata": {},
   "outputs": [],
   "source": [
    "# Gather Census Data\n",
    "census_data = c.acs5.get((\"NAME\", \"B19013_001E\", \"B01003_001E\", \"B01002_001E\",\n",
    "                          \"B19301_001E\",\n",
    "                          \"B17001_002E\",\n",
    "                          \"B23025_005E\"), {'for': 'state:*'})\n",
    "\n",
    "# Create the date frame\n",
    "census_df = pd.DataFrame(census_data)\n",
    "\n",
    "# Order the columns\n",
    "census_df = census_df.rename(columns{\"B01003_001E\": \"Population\"\n",
    "                                     \"B01002_001E\": \"Median Age\",\n",
    "                                     \"B19013_001E\": \"Household Income\",\n",
    "                                     \"B19301_001E\": \"Per Capita Income\",\n",
    "                                     \"B17001_002E\": \"Poverty Count\",\n",
    "                                     \"NAME\": \"Name\", \"state\": \"State\"})\n",
    "\n",
    "# Calculate Poverty Rate\n",
    "census_df[\"Poverty Rate\"] = 100 * \\\n",
    "    census_df[\"Poverty Count\"].astype(\n",
    "        int) / census_df[\"Population\"].astype(int)\n",
    "\n",
    "# Reorganize the columns\n",
    "census_df = census_df[[\"State\", \"Name\", \"Population\", \"Median Age\", \"Household Income\", \"Per Capita Income\", \"Poverty Count\", \"Poverty Rate\"]]"
   ]
  }
 ],
 "metadata": {
  "kernelspec": {
   "display_name": "Python 3",
   "language": "python",
   "name": "python3"
  },
  "language_info": {
   "codemirror_mode": {
    "name": "ipython",
    "version": 3
   },
   "file_extension": ".py",
   "mimetype": "text/x-python",
   "name": "python",
   "nbconvert_exporter": "python",
   "pygments_lexer": "ipython3",
   "version": "3.6.10"
  }
 },
 "nbformat": 4,
 "nbformat_minor": 5
}
