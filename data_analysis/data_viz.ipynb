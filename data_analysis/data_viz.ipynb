{
 "cells": [
  {
   "cell_type": "code",
   "execution_count": 1,
   "id": "necessary-insider",
   "metadata": {},
   "outputs": [],
   "source": [
    "import pandas as pd\n",
    "import numpy as np\n",
    "import matplotlib.pyplot as plt\n",
    "import requests \n",
    "from scipy import stats\n",
    "import scipy.stats as st\n",
    "import time\n"
   ]
  },
  {
   "cell_type": "code",
   "execution_count": 2,
   "id": "convinced-module",
   "metadata": {},
   "outputs": [
    {
     "data": {
      "text/html": [
       "<div>\n",
       "<style scoped>\n",
       "    .dataframe tbody tr th:only-of-type {\n",
       "        vertical-align: middle;\n",
       "    }\n",
       "\n",
       "    .dataframe tbody tr th {\n",
       "        vertical-align: top;\n",
       "    }\n",
       "\n",
       "    .dataframe thead th {\n",
       "        text-align: right;\n",
       "    }\n",
       "</style>\n",
       "<table border=\"1\" class=\"dataframe\">\n",
       "  <thead>\n",
       "    <tr style=\"text-align: right;\">\n",
       "      <th></th>\n",
       "      <th>State</th>\n",
       "      <th>Abbreviation</th>\n",
       "      <th>Total Emergency Depts</th>\n",
       "      <th>Total ED Visit Volume</th>\n",
       "      <th>Cases</th>\n",
       "      <th>Deaths</th>\n",
       "      <th>Death Rate (%)</th>\n",
       "      <th>Population</th>\n",
       "      <th>Median Age</th>\n",
       "      <th>Household Income</th>\n",
       "      <th>Per Capita Income</th>\n",
       "      <th>Poverty Count</th>\n",
       "      <th>Poverty Rate (%)</th>\n",
       "      <th>Per Capita EDs (100K)</th>\n",
       "      <th>Per Capita Cases</th>\n",
       "      <th>Per Capita Deaths</th>\n",
       "      <th>Per Capita Death Rate</th>\n",
       "    </tr>\n",
       "  </thead>\n",
       "  <tbody>\n",
       "    <tr>\n",
       "      <th>0</th>\n",
       "      <td>Alabama</td>\n",
       "      <td>AL</td>\n",
       "      <td>98</td>\n",
       "      <td>2,825,756</td>\n",
       "      <td>46078611</td>\n",
       "      <td>728745</td>\n",
       "      <td>1.58</td>\n",
       "      <td>4876250</td>\n",
       "      <td>39.0</td>\n",
       "      <td>50536</td>\n",
       "      <td>27928</td>\n",
       "      <td>795989</td>\n",
       "      <td>16.32</td>\n",
       "      <td>2.01</td>\n",
       "      <td>944.96</td>\n",
       "      <td>14.94</td>\n",
       "      <td>1.48</td>\n",
       "    </tr>\n",
       "    <tr>\n",
       "      <th>1</th>\n",
       "      <td>Alaska</td>\n",
       "      <td>AK</td>\n",
       "      <td>20</td>\n",
       "      <td>261,985</td>\n",
       "      <td>4544475</td>\n",
       "      <td>20735</td>\n",
       "      <td>0.46</td>\n",
       "      <td>737068</td>\n",
       "      <td>34.3</td>\n",
       "      <td>77640</td>\n",
       "      <td>36787</td>\n",
       "      <td>76933</td>\n",
       "      <td>10.44</td>\n",
       "      <td>2.71</td>\n",
       "      <td>616.56</td>\n",
       "      <td>2.81</td>\n",
       "      <td>0.32</td>\n",
       "    </tr>\n",
       "    <tr>\n",
       "      <th>2</th>\n",
       "      <td>Arizona</td>\n",
       "      <td>AZ</td>\n",
       "      <td>88</td>\n",
       "      <td>3,119,364</td>\n",
       "      <td>69132576</td>\n",
       "      <td>1418028</td>\n",
       "      <td>2.05</td>\n",
       "      <td>7050299</td>\n",
       "      <td>37.7</td>\n",
       "      <td>58945</td>\n",
       "      <td>30694</td>\n",
       "      <td>1043764</td>\n",
       "      <td>14.80</td>\n",
       "      <td>1.25</td>\n",
       "      <td>980.56</td>\n",
       "      <td>20.11</td>\n",
       "      <td>2.04</td>\n",
       "    </tr>\n",
       "    <tr>\n",
       "      <th>3</th>\n",
       "      <td>Arkansas</td>\n",
       "      <td>AR</td>\n",
       "      <td>79</td>\n",
       "      <td>1,730,571</td>\n",
       "      <td>27248041</td>\n",
       "      <td>428643</td>\n",
       "      <td>1.57</td>\n",
       "      <td>2999370</td>\n",
       "      <td>38.1</td>\n",
       "      <td>47597</td>\n",
       "      <td>26577</td>\n",
       "      <td>496260</td>\n",
       "      <td>16.55</td>\n",
       "      <td>2.63</td>\n",
       "      <td>908.46</td>\n",
       "      <td>14.29</td>\n",
       "      <td>1.54</td>\n",
       "    </tr>\n",
       "    <tr>\n",
       "      <th>4</th>\n",
       "      <td>California</td>\n",
       "      <td>CA</td>\n",
       "      <td>341</td>\n",
       "      <td>15,787,403</td>\n",
       "      <td>271972863</td>\n",
       "      <td>4177868</td>\n",
       "      <td>1.54</td>\n",
       "      <td>39283497</td>\n",
       "      <td>36.5</td>\n",
       "      <td>75235</td>\n",
       "      <td>36955</td>\n",
       "      <td>5149742</td>\n",
       "      <td>13.11</td>\n",
       "      <td>0.87</td>\n",
       "      <td>692.33</td>\n",
       "      <td>10.64</td>\n",
       "      <td>1.45</td>\n",
       "    </tr>\n",
       "  </tbody>\n",
       "</table>\n",
       "</div>"
      ],
      "text/plain": [
       "        State Abbreviation  Total Emergency Depts Total ED Visit Volume  \\\n",
       "0     Alabama           AL                     98             2,825,756   \n",
       "1      Alaska           AK                     20               261,985   \n",
       "2     Arizona           AZ                     88             3,119,364   \n",
       "3    Arkansas           AR                     79             1,730,571   \n",
       "4  California           CA                    341            15,787,403   \n",
       "\n",
       "       Cases   Deaths  Death Rate (%)  Population  Median Age  \\\n",
       "0   46078611   728745            1.58     4876250        39.0   \n",
       "1    4544475    20735            0.46      737068        34.3   \n",
       "2   69132576  1418028            2.05     7050299        37.7   \n",
       "3   27248041   428643            1.57     2999370        38.1   \n",
       "4  271972863  4177868            1.54    39283497        36.5   \n",
       "\n",
       "   Household Income  Per Capita Income  Poverty Count  Poverty Rate (%)  \\\n",
       "0             50536              27928         795989             16.32   \n",
       "1             77640              36787          76933             10.44   \n",
       "2             58945              30694        1043764             14.80   \n",
       "3             47597              26577         496260             16.55   \n",
       "4             75235              36955        5149742             13.11   \n",
       "\n",
       "   Per Capita EDs (100K)  Per Capita Cases  Per Capita Deaths  \\\n",
       "0                   2.01            944.96              14.94   \n",
       "1                   2.71            616.56               2.81   \n",
       "2                   1.25            980.56              20.11   \n",
       "3                   2.63            908.46              14.29   \n",
       "4                   0.87            692.33              10.64   \n",
       "\n",
       "   Per Capita Death Rate  \n",
       "0                   1.48  \n",
       "1                   0.32  \n",
       "2                   2.04  \n",
       "3                   1.54  \n",
       "4                   1.45  "
      ]
     },
     "execution_count": 2,
     "metadata": {},
     "output_type": "execute_result"
    }
   ],
   "source": [
    "# Read in the cleaned data file\n",
    "data_final = pd.read_csv(\"../resources/data_final.csv\")\n",
    "data_final.head()\n",
    "\n",
    "# NOTE: This data set includes all 50 U.S. states plus the District of Columbia. All references to \"states\" in this\n",
    "# code includes all 51 of these states."
   ]
  },
  {
   "cell_type": "code",
   "execution_count": 3,
   "id": "explicit-radio",
   "metadata": {},
   "outputs": [
    {
     "name": "stdout",
     "output_type": "stream",
     "text": [
      "Average Emergency Departments Per 100k:  2.215686274509804\n",
      "Median Emergency Departments Per 100k:   1.91\n"
     ]
    }
   ],
   "source": [
    "# Calculate mean and median to determine data distribution\n",
    "average = data_final[\"Per Capita EDs (100K)\"].mean()\n",
    "print(\"Average Emergency Departments Per 100k: \", average)\n",
    "\n",
    "median_data = data_final[\"Per Capita EDs (100K)\"].median()\n",
    "print(\"Median Emergency Departments Per 100k:  \",median_data)\n",
    "# Mean and median support normal distribution of data"
   ]
  },
  {
   "cell_type": "code",
   "execution_count": 4,
   "id": "hollow-arthur",
   "metadata": {},
   "outputs": [
    {
     "name": "stdout",
     "output_type": "stream",
     "text": [
      "The critical value of the Chi square test is  67.5048065495412\n"
     ]
    }
   ],
   "source": [
    "# # Calculate critical value for chi squared test of all states\n",
    "low_critical_value = stats.chi2.ppf(q=0.95, df= 50)\n",
    "print(\"The critical value of the Chi square test is \", low_critical_value)"
   ]
  },
  {
   "cell_type": "code",
   "execution_count": 5,
   "id": "solid-recording",
   "metadata": {},
   "outputs": [
    {
     "data": {
      "text/plain": [
       "Power_divergenceResult(statistic=150.63709467468954, pvalue=5.074614374556059e-12)"
      ]
     },
     "execution_count": 5,
     "metadata": {},
     "output_type": "execute_result"
    }
   ],
   "source": [
    "# Run chi squared tests for all states\n",
    "# Data rejects the null hypothesis - there seems to be a relationship between per capita EDs and COVID-19 death rate\n",
    "stats.chisquare(data_final[\"Per Capita EDs (100K)\"], data_final[\"Per Capita Death Rate\"])"
   ]
  },
  {
   "cell_type": "code",
   "execution_count": 6,
   "id": "artistic-directory",
   "metadata": {},
   "outputs": [
    {
     "data": {
      "text/html": [
       "<div>\n",
       "<style scoped>\n",
       "    .dataframe tbody tr th:only-of-type {\n",
       "        vertical-align: middle;\n",
       "    }\n",
       "\n",
       "    .dataframe tbody tr th {\n",
       "        vertical-align: top;\n",
       "    }\n",
       "\n",
       "    .dataframe thead th {\n",
       "        text-align: right;\n",
       "    }\n",
       "</style>\n",
       "<table border=\"1\" class=\"dataframe\">\n",
       "  <thead>\n",
       "    <tr style=\"text-align: right;\">\n",
       "      <th></th>\n",
       "      <th>State</th>\n",
       "      <th>Abbreviation</th>\n",
       "      <th>Total Emergency Depts</th>\n",
       "      <th>Total ED Visit Volume</th>\n",
       "      <th>Cases</th>\n",
       "      <th>Deaths</th>\n",
       "      <th>Death Rate (%)</th>\n",
       "      <th>Population</th>\n",
       "      <th>Median Age</th>\n",
       "      <th>Household Income</th>\n",
       "      <th>Per Capita Income</th>\n",
       "      <th>Poverty Count</th>\n",
       "      <th>Poverty Rate (%)</th>\n",
       "      <th>Per Capita EDs (100K)</th>\n",
       "      <th>Per Capita Cases</th>\n",
       "      <th>Per Capita Deaths</th>\n",
       "      <th>Per Capita Death Rate</th>\n",
       "      <th>Low/High Concentration of EDs (100k)</th>\n",
       "    </tr>\n",
       "  </thead>\n",
       "  <tbody>\n",
       "    <tr>\n",
       "      <th>0</th>\n",
       "      <td>Alabama</td>\n",
       "      <td>AL</td>\n",
       "      <td>98</td>\n",
       "      <td>2,825,756</td>\n",
       "      <td>46078611</td>\n",
       "      <td>728745</td>\n",
       "      <td>1.58</td>\n",
       "      <td>4876250</td>\n",
       "      <td>39.0</td>\n",
       "      <td>50536</td>\n",
       "      <td>27928</td>\n",
       "      <td>795989</td>\n",
       "      <td>16.32</td>\n",
       "      <td>2.01</td>\n",
       "      <td>944.96</td>\n",
       "      <td>14.94</td>\n",
       "      <td>1.48</td>\n",
       "      <td>Low</td>\n",
       "    </tr>\n",
       "    <tr>\n",
       "      <th>1</th>\n",
       "      <td>Alaska</td>\n",
       "      <td>AK</td>\n",
       "      <td>20</td>\n",
       "      <td>261,985</td>\n",
       "      <td>4544475</td>\n",
       "      <td>20735</td>\n",
       "      <td>0.46</td>\n",
       "      <td>737068</td>\n",
       "      <td>34.3</td>\n",
       "      <td>77640</td>\n",
       "      <td>36787</td>\n",
       "      <td>76933</td>\n",
       "      <td>10.44</td>\n",
       "      <td>2.71</td>\n",
       "      <td>616.56</td>\n",
       "      <td>2.81</td>\n",
       "      <td>0.32</td>\n",
       "      <td>High</td>\n",
       "    </tr>\n",
       "    <tr>\n",
       "      <th>2</th>\n",
       "      <td>Arizona</td>\n",
       "      <td>AZ</td>\n",
       "      <td>88</td>\n",
       "      <td>3,119,364</td>\n",
       "      <td>69132576</td>\n",
       "      <td>1418028</td>\n",
       "      <td>2.05</td>\n",
       "      <td>7050299</td>\n",
       "      <td>37.7</td>\n",
       "      <td>58945</td>\n",
       "      <td>30694</td>\n",
       "      <td>1043764</td>\n",
       "      <td>14.80</td>\n",
       "      <td>1.25</td>\n",
       "      <td>980.56</td>\n",
       "      <td>20.11</td>\n",
       "      <td>2.04</td>\n",
       "      <td>Low</td>\n",
       "    </tr>\n",
       "    <tr>\n",
       "      <th>3</th>\n",
       "      <td>Arkansas</td>\n",
       "      <td>AR</td>\n",
       "      <td>79</td>\n",
       "      <td>1,730,571</td>\n",
       "      <td>27248041</td>\n",
       "      <td>428643</td>\n",
       "      <td>1.57</td>\n",
       "      <td>2999370</td>\n",
       "      <td>38.1</td>\n",
       "      <td>47597</td>\n",
       "      <td>26577</td>\n",
       "      <td>496260</td>\n",
       "      <td>16.55</td>\n",
       "      <td>2.63</td>\n",
       "      <td>908.46</td>\n",
       "      <td>14.29</td>\n",
       "      <td>1.54</td>\n",
       "      <td>High</td>\n",
       "    </tr>\n",
       "    <tr>\n",
       "      <th>4</th>\n",
       "      <td>California</td>\n",
       "      <td>CA</td>\n",
       "      <td>341</td>\n",
       "      <td>15,787,403</td>\n",
       "      <td>271972863</td>\n",
       "      <td>4177868</td>\n",
       "      <td>1.54</td>\n",
       "      <td>39283497</td>\n",
       "      <td>36.5</td>\n",
       "      <td>75235</td>\n",
       "      <td>36955</td>\n",
       "      <td>5149742</td>\n",
       "      <td>13.11</td>\n",
       "      <td>0.87</td>\n",
       "      <td>692.33</td>\n",
       "      <td>10.64</td>\n",
       "      <td>1.45</td>\n",
       "      <td>Low</td>\n",
       "    </tr>\n",
       "  </tbody>\n",
       "</table>\n",
       "</div>"
      ],
      "text/plain": [
       "        State Abbreviation  Total Emergency Depts Total ED Visit Volume  \\\n",
       "0     Alabama           AL                     98             2,825,756   \n",
       "1      Alaska           AK                     20               261,985   \n",
       "2     Arizona           AZ                     88             3,119,364   \n",
       "3    Arkansas           AR                     79             1,730,571   \n",
       "4  California           CA                    341            15,787,403   \n",
       "\n",
       "       Cases   Deaths  Death Rate (%)  Population  Median Age  \\\n",
       "0   46078611   728745            1.58     4876250        39.0   \n",
       "1    4544475    20735            0.46      737068        34.3   \n",
       "2   69132576  1418028            2.05     7050299        37.7   \n",
       "3   27248041   428643            1.57     2999370        38.1   \n",
       "4  271972863  4177868            1.54    39283497        36.5   \n",
       "\n",
       "   Household Income  Per Capita Income  Poverty Count  Poverty Rate (%)  \\\n",
       "0             50536              27928         795989             16.32   \n",
       "1             77640              36787          76933             10.44   \n",
       "2             58945              30694        1043764             14.80   \n",
       "3             47597              26577         496260             16.55   \n",
       "4             75235              36955        5149742             13.11   \n",
       "\n",
       "   Per Capita EDs (100K)  Per Capita Cases  Per Capita Deaths  \\\n",
       "0                   2.01            944.96              14.94   \n",
       "1                   2.71            616.56               2.81   \n",
       "2                   1.25            980.56              20.11   \n",
       "3                   2.63            908.46              14.29   \n",
       "4                   0.87            692.33              10.64   \n",
       "\n",
       "   Per Capita Death Rate Low/High Concentration of EDs (100k)  \n",
       "0                   1.48                                  Low  \n",
       "1                   0.32                                 High  \n",
       "2                   2.04                                  Low  \n",
       "3                   1.54                                 High  \n",
       "4                   1.45                                  Low  "
      ]
     },
     "execution_count": 6,
     "metadata": {},
     "output_type": "execute_result"
    }
   ],
   "source": [
    "# Create threshold for ED concentration based on median of per capita EDs\n",
    "bins = [0, 2.215, 6]\n",
    "bin_labels = [\"Low\", \"High\"]\n",
    "data_final[\"Low/High Concentration of EDs (100k)\"] = pd.cut(data_final[\"Per Capita EDs (100K)\"], bins, labels=bin_labels)\n",
    "data_final.head()\n"
   ]
  },
  {
   "cell_type": "code",
   "execution_count": 7,
   "id": "competent-irish",
   "metadata": {},
   "outputs": [
    {
     "name": "stdout",
     "output_type": "stream",
     "text": [
      "Number of low concentration states:  30\n"
     ]
    },
    {
     "data": {
      "text/html": [
       "<div>\n",
       "<style scoped>\n",
       "    .dataframe tbody tr th:only-of-type {\n",
       "        vertical-align: middle;\n",
       "    }\n",
       "\n",
       "    .dataframe tbody tr th {\n",
       "        vertical-align: top;\n",
       "    }\n",
       "\n",
       "    .dataframe thead th {\n",
       "        text-align: right;\n",
       "    }\n",
       "</style>\n",
       "<table border=\"1\" class=\"dataframe\">\n",
       "  <thead>\n",
       "    <tr style=\"text-align: right;\">\n",
       "      <th></th>\n",
       "      <th>State</th>\n",
       "      <th>Abbreviation</th>\n",
       "      <th>Total Emergency Depts</th>\n",
       "      <th>Total ED Visit Volume</th>\n",
       "      <th>Cases</th>\n",
       "      <th>Deaths</th>\n",
       "      <th>Death Rate (%)</th>\n",
       "      <th>Population</th>\n",
       "      <th>Median Age</th>\n",
       "      <th>Household Income</th>\n",
       "      <th>Per Capita Income</th>\n",
       "      <th>Poverty Count</th>\n",
       "      <th>Poverty Rate (%)</th>\n",
       "      <th>Per Capita EDs (100K)</th>\n",
       "      <th>Per Capita Cases</th>\n",
       "      <th>Per Capita Deaths</th>\n",
       "      <th>Per Capita Death Rate</th>\n",
       "      <th>Low/High Concentration of EDs (100k)</th>\n",
       "    </tr>\n",
       "  </thead>\n",
       "  <tbody>\n",
       "    <tr>\n",
       "      <th>0</th>\n",
       "      <td>Alabama</td>\n",
       "      <td>AL</td>\n",
       "      <td>98</td>\n",
       "      <td>2,825,756</td>\n",
       "      <td>46078611</td>\n",
       "      <td>728745</td>\n",
       "      <td>1.58</td>\n",
       "      <td>4876250</td>\n",
       "      <td>39.0</td>\n",
       "      <td>50536</td>\n",
       "      <td>27928</td>\n",
       "      <td>795989</td>\n",
       "      <td>16.32</td>\n",
       "      <td>2.01</td>\n",
       "      <td>944.96</td>\n",
       "      <td>14.94</td>\n",
       "      <td>1.48</td>\n",
       "      <td>Low</td>\n",
       "    </tr>\n",
       "    <tr>\n",
       "      <th>2</th>\n",
       "      <td>Arizona</td>\n",
       "      <td>AZ</td>\n",
       "      <td>88</td>\n",
       "      <td>3,119,364</td>\n",
       "      <td>69132576</td>\n",
       "      <td>1418028</td>\n",
       "      <td>2.05</td>\n",
       "      <td>7050299</td>\n",
       "      <td>37.7</td>\n",
       "      <td>58945</td>\n",
       "      <td>30694</td>\n",
       "      <td>1043764</td>\n",
       "      <td>14.80</td>\n",
       "      <td>1.25</td>\n",
       "      <td>980.56</td>\n",
       "      <td>20.11</td>\n",
       "      <td>2.04</td>\n",
       "      <td>Low</td>\n",
       "    </tr>\n",
       "    <tr>\n",
       "      <th>4</th>\n",
       "      <td>California</td>\n",
       "      <td>CA</td>\n",
       "      <td>341</td>\n",
       "      <td>15,787,403</td>\n",
       "      <td>271972863</td>\n",
       "      <td>4177868</td>\n",
       "      <td>1.54</td>\n",
       "      <td>39283497</td>\n",
       "      <td>36.5</td>\n",
       "      <td>75235</td>\n",
       "      <td>36955</td>\n",
       "      <td>5149742</td>\n",
       "      <td>13.11</td>\n",
       "      <td>0.87</td>\n",
       "      <td>692.33</td>\n",
       "      <td>10.64</td>\n",
       "      <td>1.45</td>\n",
       "      <td>Low</td>\n",
       "    </tr>\n",
       "    <tr>\n",
       "      <th>6</th>\n",
       "      <td>Connecticut</td>\n",
       "      <td>CT</td>\n",
       "      <td>35</td>\n",
       "      <td>1,666,267</td>\n",
       "      <td>24625667</td>\n",
       "      <td>1338181</td>\n",
       "      <td>5.43</td>\n",
       "      <td>3575074</td>\n",
       "      <td>41.0</td>\n",
       "      <td>78444</td>\n",
       "      <td>44496</td>\n",
       "      <td>344146</td>\n",
       "      <td>9.63</td>\n",
       "      <td>0.98</td>\n",
       "      <td>688.82</td>\n",
       "      <td>37.43</td>\n",
       "      <td>5.38</td>\n",
       "      <td>Low</td>\n",
       "    </tr>\n",
       "    <tr>\n",
       "      <th>7</th>\n",
       "      <td>Delaware</td>\n",
       "      <td>DE</td>\n",
       "      <td>11</td>\n",
       "      <td>523,043</td>\n",
       "      <td>7447062</td>\n",
       "      <td>179045</td>\n",
       "      <td>2.40</td>\n",
       "      <td>957248</td>\n",
       "      <td>40.6</td>\n",
       "      <td>68287</td>\n",
       "      <td>35450</td>\n",
       "      <td>109400</td>\n",
       "      <td>11.43</td>\n",
       "      <td>1.15</td>\n",
       "      <td>777.97</td>\n",
       "      <td>18.70</td>\n",
       "      <td>2.32</td>\n",
       "      <td>Low</td>\n",
       "    </tr>\n",
       "  </tbody>\n",
       "</table>\n",
       "</div>"
      ],
      "text/plain": [
       "         State Abbreviation  Total Emergency Depts Total ED Visit Volume  \\\n",
       "0      Alabama           AL                     98             2,825,756   \n",
       "2      Arizona           AZ                     88             3,119,364   \n",
       "4   California           CA                    341            15,787,403   \n",
       "6  Connecticut           CT                     35             1,666,267   \n",
       "7     Delaware           DE                     11               523,043   \n",
       "\n",
       "       Cases   Deaths  Death Rate (%)  Population  Median Age  \\\n",
       "0   46078611   728745            1.58     4876250        39.0   \n",
       "2   69132576  1418028            2.05     7050299        37.7   \n",
       "4  271972863  4177868            1.54    39283497        36.5   \n",
       "6   24625667  1338181            5.43     3575074        41.0   \n",
       "7    7447062   179045            2.40      957248        40.6   \n",
       "\n",
       "   Household Income  Per Capita Income  Poverty Count  Poverty Rate (%)  \\\n",
       "0             50536              27928         795989             16.32   \n",
       "2             58945              30694        1043764             14.80   \n",
       "4             75235              36955        5149742             13.11   \n",
       "6             78444              44496         344146              9.63   \n",
       "7             68287              35450         109400             11.43   \n",
       "\n",
       "   Per Capita EDs (100K)  Per Capita Cases  Per Capita Deaths  \\\n",
       "0                   2.01            944.96              14.94   \n",
       "2                   1.25            980.56              20.11   \n",
       "4                   0.87            692.33              10.64   \n",
       "6                   0.98            688.82              37.43   \n",
       "7                   1.15            777.97              18.70   \n",
       "\n",
       "   Per Capita Death Rate Low/High Concentration of EDs (100k)  \n",
       "0                   1.48                                  Low  \n",
       "2                   2.04                                  Low  \n",
       "4                   1.45                                  Low  \n",
       "6                   5.38                                  Low  \n",
       "7                   2.32                                  Low  "
      ]
     },
     "execution_count": 7,
     "metadata": {},
     "output_type": "execute_result"
    }
   ],
   "source": [
    "# Sort data set into two data frames based on threshold - \"low\" concetration state and \"high\" concentration states\n",
    "low_concentration = data_final.loc[data_final[\"Low/High Concentration of EDs (100k)\"] == \"Low\"]\n",
    "print(\"Number of low concentration states: \", len(low_concentration))\n",
    "low_concentration.head()"
   ]
  },
  {
   "cell_type": "code",
   "execution_count": 8,
   "id": "liberal-neutral",
   "metadata": {},
   "outputs": [
    {
     "name": "stdout",
     "output_type": "stream",
     "text": [
      "The critical value of the Chi square test is  42.55696780429269\n"
     ]
    }
   ],
   "source": [
    "# Calculate critical value for chi squared test of low concentration states\n",
    "low_critical_value = stats.chi2.ppf(q=0.95, df= 29)\n",
    "print(\"The critical value of the Chi square test is \", low_critical_value)"
   ]
  },
  {
   "cell_type": "code",
   "execution_count": 9,
   "id": "vocal-worship",
   "metadata": {},
   "outputs": [
    {
     "data": {
      "text/plain": [
       "Power_divergenceResult(statistic=27.52753979524908, pvalue=0.5432658100648736)"
      ]
     },
     "execution_count": 9,
     "metadata": {},
     "output_type": "execute_result"
    }
   ],
   "source": [
    "# Run chi squared tests for low concentration states\n",
    "# Data does not reject the null hypothesis - no relationship between ED concentration and COVID death rates in low conentration states\n",
    "stats.chisquare(low_concentration[\"Per Capita EDs (100K)\"], low_concentration[\"Per Capita Death Rate\"])"
   ]
  },
  {
   "cell_type": "code",
   "execution_count": 10,
   "id": "yellow-while",
   "metadata": {},
   "outputs": [
    {
     "name": "stdout",
     "output_type": "stream",
     "text": [
      "Number of high concentration states:  21\n"
     ]
    },
    {
     "data": {
      "text/html": [
       "<div>\n",
       "<style scoped>\n",
       "    .dataframe tbody tr th:only-of-type {\n",
       "        vertical-align: middle;\n",
       "    }\n",
       "\n",
       "    .dataframe tbody tr th {\n",
       "        vertical-align: top;\n",
       "    }\n",
       "\n",
       "    .dataframe thead th {\n",
       "        text-align: right;\n",
       "    }\n",
       "</style>\n",
       "<table border=\"1\" class=\"dataframe\">\n",
       "  <thead>\n",
       "    <tr style=\"text-align: right;\">\n",
       "      <th></th>\n",
       "      <th>State</th>\n",
       "      <th>Abbreviation</th>\n",
       "      <th>Total Emergency Depts</th>\n",
       "      <th>Total ED Visit Volume</th>\n",
       "      <th>Cases</th>\n",
       "      <th>Deaths</th>\n",
       "      <th>Death Rate (%)</th>\n",
       "      <th>Population</th>\n",
       "      <th>Median Age</th>\n",
       "      <th>Household Income</th>\n",
       "      <th>Per Capita Income</th>\n",
       "      <th>Poverty Count</th>\n",
       "      <th>Poverty Rate (%)</th>\n",
       "      <th>Per Capita EDs (100K)</th>\n",
       "      <th>Per Capita Cases</th>\n",
       "      <th>Per Capita Deaths</th>\n",
       "      <th>Per Capita Death Rate</th>\n",
       "      <th>Low/High Concentration of EDs (100k)</th>\n",
       "    </tr>\n",
       "  </thead>\n",
       "  <tbody>\n",
       "    <tr>\n",
       "      <th>1</th>\n",
       "      <td>Alaska</td>\n",
       "      <td>AK</td>\n",
       "      <td>20</td>\n",
       "      <td>261,985</td>\n",
       "      <td>4544475</td>\n",
       "      <td>20735</td>\n",
       "      <td>0.46</td>\n",
       "      <td>737068</td>\n",
       "      <td>34.3</td>\n",
       "      <td>77640</td>\n",
       "      <td>36787</td>\n",
       "      <td>76933</td>\n",
       "      <td>10.44</td>\n",
       "      <td>2.71</td>\n",
       "      <td>616.56</td>\n",
       "      <td>2.81</td>\n",
       "      <td>0.32</td>\n",
       "      <td>High</td>\n",
       "    </tr>\n",
       "    <tr>\n",
       "      <th>3</th>\n",
       "      <td>Arkansas</td>\n",
       "      <td>AR</td>\n",
       "      <td>79</td>\n",
       "      <td>1,730,571</td>\n",
       "      <td>27248041</td>\n",
       "      <td>428643</td>\n",
       "      <td>1.57</td>\n",
       "      <td>2999370</td>\n",
       "      <td>38.1</td>\n",
       "      <td>47597</td>\n",
       "      <td>26577</td>\n",
       "      <td>496260</td>\n",
       "      <td>16.55</td>\n",
       "      <td>2.63</td>\n",
       "      <td>908.46</td>\n",
       "      <td>14.29</td>\n",
       "      <td>1.54</td>\n",
       "      <td>High</td>\n",
       "    </tr>\n",
       "    <tr>\n",
       "      <th>5</th>\n",
       "      <td>Colorado</td>\n",
       "      <td>CO</td>\n",
       "      <td>131</td>\n",
       "      <td>2,515,825</td>\n",
       "      <td>35779317</td>\n",
       "      <td>721293</td>\n",
       "      <td>2.02</td>\n",
       "      <td>5610349</td>\n",
       "      <td>36.7</td>\n",
       "      <td>72331</td>\n",
       "      <td>38226</td>\n",
       "      <td>565873</td>\n",
       "      <td>10.09</td>\n",
       "      <td>2.33</td>\n",
       "      <td>637.74</td>\n",
       "      <td>12.86</td>\n",
       "      <td>1.88</td>\n",
       "      <td>High</td>\n",
       "    </tr>\n",
       "    <tr>\n",
       "      <th>12</th>\n",
       "      <td>Idaho</td>\n",
       "      <td>ID</td>\n",
       "      <td>42</td>\n",
       "      <td>649,169</td>\n",
       "      <td>15705246</td>\n",
       "      <td>162163</td>\n",
       "      <td>1.03</td>\n",
       "      <td>1717750</td>\n",
       "      <td>36.4</td>\n",
       "      <td>55785</td>\n",
       "      <td>27970</td>\n",
       "      <td>221256</td>\n",
       "      <td>12.88</td>\n",
       "      <td>2.45</td>\n",
       "      <td>914.29</td>\n",
       "      <td>9.44</td>\n",
       "      <td>0.98</td>\n",
       "      <td>High</td>\n",
       "    </tr>\n",
       "    <tr>\n",
       "      <th>15</th>\n",
       "      <td>Iowa</td>\n",
       "      <td>IA</td>\n",
       "      <td>119</td>\n",
       "      <td>1,488,702</td>\n",
       "      <td>33310004</td>\n",
       "      <td>478668</td>\n",
       "      <td>1.44</td>\n",
       "      <td>3139508</td>\n",
       "      <td>38.2</td>\n",
       "      <td>60523</td>\n",
       "      <td>32176</td>\n",
       "      <td>348122</td>\n",
       "      <td>11.09</td>\n",
       "      <td>3.79</td>\n",
       "      <td>1060.99</td>\n",
       "      <td>15.25</td>\n",
       "      <td>1.42</td>\n",
       "      <td>High</td>\n",
       "    </tr>\n",
       "  </tbody>\n",
       "</table>\n",
       "</div>"
      ],
      "text/plain": [
       "       State Abbreviation  Total Emergency Depts Total ED Visit Volume  \\\n",
       "1     Alaska           AK                     20               261,985   \n",
       "3   Arkansas           AR                     79             1,730,571   \n",
       "5   Colorado           CO                    131             2,515,825   \n",
       "12     Idaho           ID                     42               649,169   \n",
       "15      Iowa           IA                    119             1,488,702   \n",
       "\n",
       "       Cases  Deaths  Death Rate (%)  Population  Median Age  \\\n",
       "1    4544475   20735            0.46      737068        34.3   \n",
       "3   27248041  428643            1.57     2999370        38.1   \n",
       "5   35779317  721293            2.02     5610349        36.7   \n",
       "12  15705246  162163            1.03     1717750        36.4   \n",
       "15  33310004  478668            1.44     3139508        38.2   \n",
       "\n",
       "    Household Income  Per Capita Income  Poverty Count  Poverty Rate (%)  \\\n",
       "1              77640              36787          76933             10.44   \n",
       "3              47597              26577         496260             16.55   \n",
       "5              72331              38226         565873             10.09   \n",
       "12             55785              27970         221256             12.88   \n",
       "15             60523              32176         348122             11.09   \n",
       "\n",
       "    Per Capita EDs (100K)  Per Capita Cases  Per Capita Deaths  \\\n",
       "1                    2.71            616.56               2.81   \n",
       "3                    2.63            908.46              14.29   \n",
       "5                    2.33            637.74              12.86   \n",
       "12                   2.45            914.29               9.44   \n",
       "15                   3.79           1060.99              15.25   \n",
       "\n",
       "    Per Capita Death Rate Low/High Concentration of EDs (100k)  \n",
       "1                    0.32                                 High  \n",
       "3                    1.54                                 High  \n",
       "5                    1.88                                 High  \n",
       "12                   0.98                                 High  \n",
       "15                   1.42                                 High  "
      ]
     },
     "execution_count": 10,
     "metadata": {},
     "output_type": "execute_result"
    }
   ],
   "source": [
    "# Create the high concetration of EDs data frame\n",
    "high_concentration = data_final.loc[data_final[\"Low/High Concentration of EDs (100k)\"] == \"High\"]\n",
    "print(\"Number of high concentration states: \", len(high_concentration))\n",
    "high_concentration.head()"
   ]
  },
  {
   "cell_type": "code",
   "execution_count": 11,
   "id": "congressional-relief",
   "metadata": {},
   "outputs": [
    {
     "name": "stdout",
     "output_type": "stream",
     "text": [
      "The critical value of the Chi square test is  31.410432844230918\n"
     ]
    }
   ],
   "source": [
    "# Calculate critical value for chi squared test of high concentration states\n",
    "high_critical_value = stats.chi2.ppf(q=0.95, df= 20)\n",
    "print(\"The critical value of the Chi square test is \", high_critical_value)"
   ]
  },
  {
   "cell_type": "code",
   "execution_count": 12,
   "id": "knowing-bulgaria",
   "metadata": {},
   "outputs": [
    {
     "data": {
      "text/plain": [
       "Power_divergenceResult(statistic=123.10955487944042, pvalue=7.550714959382525e-17)"
      ]
     },
     "execution_count": 12,
     "metadata": {},
     "output_type": "execute_result"
    }
   ],
   "source": [
    "# Run chi squared tests for high concentration states\n",
    "# Data rejects the null hypothesis - a relationship between ED concentration and COVID death rates in high conentration states exists\n",
    "stats.chisquare(high_concentration[\"Per Capita EDs (100K)\"], high_concentration[\"Per Capita Death Rate\"])"
   ]
  },
  {
   "cell_type": "code",
   "execution_count": 13,
   "id": "harmful-inspiration",
   "metadata": {},
   "outputs": [],
   "source": [
    "## ANALYSIS:\n",
    "# The data suggests there is a threshold at which the concentration of emergency departments within a state has an impact on\n",
    "# COVID-19 death rates. We do not have enough data to determine where that threshold begins."
   ]
  },
  {
   "cell_type": "code",
   "execution_count": 14,
   "id": "meaningful-software",
   "metadata": {},
   "outputs": [
    {
     "data": {
      "image/png": "[encoded data removed]",
      "text/plain": [
       "<Figure size 432x288 with 1 Axes>"
      ]
     },
     "metadata": {
      "needs_background": "light"
     },
     "output_type": "display_data"
    }
   ],
   "source": [
    "# Create bar graph of raw number of EDs per state\n",
    "x_axis = data_final[\"Abbreviation\"]\n",
    "y_axis = data_final[\"Total Emergency Depts\"]\n",
    "plt.bar(x_axis, y_axis)\n",
    "plt.title(\"Number of EDs Per State\")\n",
    "plt.xlabel(\"State\")\n",
    "plt.ylabel(\"Number of EDs\")\n",
    "plt.savefig(\"Number of EDs Per State Bar Graph.png\")\n",
    "plt.show()"
   ]
  },
  {
   "cell_type": "code",
   "execution_count": 15,
   "id": "established-victim",
   "metadata": {},
   "outputs": [
    {
     "data": {
      "image/png": "[encoded data removed]",
      "text/plain": [
       "<Figure size 432x288 with 1 Axes>"
      ]
     },
     "metadata": {
      "needs_background": "light"
     },
     "output_type": "display_data"
    }
   ],
   "source": [
    "# Create bar graph of per capita COVID-19 death rate per state\n",
    "x_axis = data_final[\"Abbreviation\"]\n",
    "y_axis = data_final[\"Per Capita Death Rate\"]\n",
    "plt.bar(x_axis, y_axis)\n",
    "plt.title(\"Reported Per Capita COVID-19 Death Rate Per State\")\n",
    "plt.xlabel(\"State\")\n",
    "plt.ylabel(\"Per Capita COVID-19 Death Rate\")\n",
    "plt.savefig(\"Reported Per Capita COVID-19 Death Rate Per State Bar Graph.png\")\n",
    "plt.show()"
   ]
  },
  {
   "cell_type": "code",
   "execution_count": 16,
   "id": "inner-scratch",
   "metadata": {},
   "outputs": [
    {
     "data": {
      "image/png": "[encoded data removed]",
      "text/plain": [
       "<Figure size 432x288 with 1 Axes>"
      ]
     },
     "metadata": {
      "needs_background": "light"
     },
     "output_type": "display_data"
    }
   ],
   "source": [
    "# Create bar graph of per capita EDs per state\n",
    "x_axis = data_final[\"Abbreviation\"]\n",
    "y_axis = data_final[\"Per Capita EDs (100K)\"]\n",
    "plt.title(\"State EDs Per Capita\")\n",
    "plt.xlabel(\"State\")\n",
    "plt.ylabel(\"Number of EDs (Per 100k People)\")\n",
    "plt.bar(x_axis, y_axis)\n",
    "plt.savefig(\"State EDs Per Capita.png\")\n",
    "plt.show()"
   ]
  },
  {
   "cell_type": "code",
   "execution_count": 17,
   "id": "entitled-payroll",
   "metadata": {},
   "outputs": [
    {
     "data": {
      "image/png": "[encoded data removed]",
      "text/plain": [
       "<Figure size 432x288 with 1 Axes>"
      ]
     },
     "metadata": {
      "needs_background": "light"
     },
     "output_type": "display_data"
    },
    {
     "name": "stdout",
     "output_type": "stream",
     "text": [
      "The correlation coefficient between EDs per capita and COVID-19 death rates per capita is -0.46\n"
     ]
    }
   ],
   "source": [
    "# Create scatter plot of per capita EDs vs per capita deaths\n",
    "x_axis = data_final[\"Per Capita EDs (100K)\"]\n",
    "y_axis = data_final[\"Per Capita Death Rate\"]\n",
    "plt.title(\"COVID-19 Death Rate and Emergency Departments Per Capita\")\n",
    "plt.xlabel(\"Emergency Departments Per Capita (Per 100k People)\")\n",
    "plt.ylabel(\"COVID-19 Death Rate Per Capita\")\n",
    "plt.scatter(x_axis, y_axis)\n",
    "# Perform a linear regression on Per Capita EDs versus Per Capita Deaths\n",
    "vc_slope, vc_int, vc_r, vc_p, vc_std_err = stats.linregress(x_axis, y_axis)\n",
    "# Create equation of line to calculate predicted Per Capita Deaths\n",
    "vc_fit = vc_slope * x_axis + vc_int\n",
    "plt.plot(x_axis, vc_fit, \"--\")\n",
    "plt.savefig(\"COVID-19 Death Rate and Emergency Departments Per Capita.png\")\n",
    "plt.show()\n",
    "#Show results\n",
    "print(f\"The correlation coefficient between EDs per capita and COVID-19 death rates per capita is {round(st.pearsonr(x_axis,y_axis)[0],2)}\")\n"
   ]
  },
  {
   "cell_type": "code",
   "execution_count": 18,
   "id": "auburn-masters",
   "metadata": {},
   "outputs": [
    {
     "data": {
      "image/png": "[encoded data removed]",
      "text/plain": [
       "<Figure size 432x288 with 1 Axes>"
      ]
     },
     "metadata": {
      "needs_background": "light"
     },
     "output_type": "display_data"
    },
    {
     "name": "stdout",
     "output_type": "stream",
     "text": [
      "The correlation coefficient between Poverty Rate and COVID-19 death rates per capita is -0.05\n"
     ]
    }
   ],
   "source": [
    "# Create a scatter plot of poverty rate vs per capita death rate\n",
    "x_axis = data_final[\"Poverty Rate (%)\"]\n",
    "y_axis = data_final[\"Per Capita Death Rate\"]\n",
    "# Perform a linear regression on Poverty Rate versus Deaths Per Capita\n",
    "vc_slope, vc_int, vc_r, vc_p, vc_std_err = stats.linregress(x_axis, y_axis)\n",
    "# Create equation of line to calculate predicted Deaths Per Capita\n",
    "vc_fit = vc_slope * x_axis + vc_int\n",
    "plt.plot(x_axis, vc_fit, \"--\")\n",
    "plt.title(\"Per Capita COVID-19 Deaths and Poverty Rate (%)\")\n",
    "plt.xlabel(\"Poverty Rate (%)\")\n",
    "plt.ylabel(\"Per Capita COVID-19 Death Rate\")\n",
    "plt.scatter(x_axis, y_axis)\n",
    "plt.savefig(\"Per Capita COVID-19 Deaths and Poverty Rate (%).png\")\n",
    "plt.show()\n",
    "#Show results\n",
    "print(f\"The correlation coefficient between Poverty Rate and COVID-19 death rates per capita is {round(st.pearsonr(x_axis,y_axis)[0],2)}\")\n"
   ]
  },
  {
   "cell_type": "code",
   "execution_count": 19,
   "id": "encouraging-pioneer",
   "metadata": {},
   "outputs": [
    {
     "data": {
      "image/png": "[encoded data removed]",
      "text/plain": [
       "<Figure size 432x288 with 1 Axes>"
      ]
     },
     "metadata": {
      "needs_background": "light"
     },
     "output_type": "display_data"
    },
    {
     "name": "stdout",
     "output_type": "stream",
     "text": [
      "The correlation coefficient between Median Age and COVID-19 death rates per capita is 0.29\n"
     ]
    }
   ],
   "source": [
    "# Create a scatter plot of median age vs per capita death rate\n",
    "x_axis = data_final[\"Median Age\"]\n",
    "y_axis = data_final[\"Per Capita Death Rate\"]\n",
    "plt.title(\"Per Capita Deaths and Median Age\")\n",
    "plt.xlabel(\"Median Age\")\n",
    "plt.ylabel(\"Per Capita COVID-19 Death Rate\")\n",
    "plt.scatter(x_axis, y_axis)\n",
    " # Perform a linear regression on year Median Age versus Deaths Per Capita  \n",
    "vc_slope, vc_int, vc_r, vc_p, vc_std_err = stats.linregress(x_axis, y_axis)\n",
    "# Create equation of line to calculate predicted Deaths Per Capita \n",
    "vc_fit = vc_slope * x_axis + vc_int\n",
    "plt.plot(x_axis, vc_fit, \"--\")\n",
    "plt.savefig(\"Per Capita Deaths and Median Age.png\")\n",
    "plt.show()\n",
    "#Show results\n",
    "print(f\"The correlation coefficient between Median Age and COVID-19 death rates per capita is {round(st.pearsonr(x_axis,y_axis)[0],2)}\")\n"
   ]
  },
  {
   "cell_type": "code",
   "execution_count": 20,
   "id": "geographic-european",
   "metadata": {},
   "outputs": [],
   "source": [
    "# quartiles = data_final[\"Per Capita Deaths\"].quantile([.25,.5,.75])\n",
    "# lowerq = quartiles[0.25]\n",
    "# upperq = quartiles[0.75]\n",
    "# iqr = upperq-lowerq\n",
    "\n",
    "# print(f\"The lower quartile of Deaths Per 100k is: {lowerq}\")\n",
    "# print(f\"The upper quartile of Deaths Per 100k is: {upperq}\")\n",
    "# print(f\"The interquartile range of Deaths Per 100k is: {iqr}\")\n",
    "# print(f\"The the median of Deaths Per 100k is: {quartiles[0.5]} \")\n",
    "\n",
    "# #since te lower bound is below 0, the lower bound is automically set to 0 \n",
    "# #since it would be impossible to have a Death Per Capita rate below 0\n",
    "\n",
    "# #lower_bound = lowerq - (1.5*iqr)\n",
    "# lower_bound = 0\n",
    "# upper_bound = upperq + (1.5*iqr)\n",
    "# print(f\"Values below {lower_bound} could be outliers.\")\n",
    "# print(f\"Values above {upper_bound} could be outliers.\")\n"
   ]
  },
  {
   "cell_type": "code",
   "execution_count": 21,
   "id": "deluxe-sitting",
   "metadata": {},
   "outputs": [],
   "source": [
    "# show_outliers = data_final.loc[data_final[\"Per Capita Deaths\"] > upper_bound]\n",
    "# show_outliers.head()"
   ]
  },
  {
   "cell_type": "code",
   "execution_count": 22,
   "id": "obvious-pipeline",
   "metadata": {},
   "outputs": [],
   "source": [
    "# remove_outliers = data_final.loc[data_final[\"Per Capita Deaths\"] < upper_bound]\n",
    "# remove_outliers.head()"
   ]
  },
  {
   "cell_type": "code",
   "execution_count": 23,
   "id": "western-variable",
   "metadata": {},
   "outputs": [],
   "source": [
    "# x_axis = remove_outliers[\"Per Capita EDs (100K)\"]\n",
    "# y_axis = remove_outliers[\"Per Capita Deaths\"]\n",
    "# plt.title(\"Deaths and Emergency Departments Per Capita\")\n",
    "# plt.xlabel(\"Emergency Departments Per Capita (Per 100k People)\")\n",
    "# plt.ylabel(\"Deaths Per Capita\")\n",
    "# plt.scatter(x_axis, y_axis)\n",
    "# # Perform a linear regression on Per Capita EDs versus Per Capita Deaths\n",
    "# vc_slope, vc_int, vc_r, vc_p, vc_std_err = stats.linregress(x_axis, y_axis)\n",
    "# # Create equation of line to calculate predicted Per Capita Deaths\n",
    "# vc_fit = vc_slope * x_axis + vc_int\n",
    "# plt.plot(x_axis, vc_fit, \"--\")\n",
    "# plt.show()\n",
    "# #Show results\n",
    "# print(f\"The correlation coefficient between Emergency Departments Per Capita and Deaths Per Capita after removing the outliers and is {round(st.pearsonr(x_axis,y_axis)[0],2)}\")"
   ]
  },
  {
   "cell_type": "code",
   "execution_count": null,
   "id": "grand-access",
   "metadata": {},
   "outputs": [],
   "source": []
  }
 ],
 "metadata": {
  "kernelspec": {
   "display_name": "Python 3",
   "language": "python",
   "name": "python3"
  },
  "language_info": {
   "codemirror_mode": {
    "name": "ipython",
    "version": 3
   },
   "file_extension": ".py",
   "mimetype": "text/x-python",
   "name": "python",
   "nbconvert_exporter": "python",
   "pygments_lexer": "ipython3",
   "version": "3.6.10"
  }
 },
 "nbformat": 4,
 "nbformat_minor": 5
}
